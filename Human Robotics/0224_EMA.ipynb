{
 "cells": [
  {
   "cell_type": "code",
   "execution_count": 1,
   "metadata": {},
   "outputs": [],
   "source": [
    "import pandas as pd\n",
    "import numpy as np\n",
    "\n",
    "EMA = pd.read_csv(\"EMA Study Data/EMA Data/Grace both Time and Event based pilr_data_export.csv\")\n",
    "pd.set_option(\"display.max_rows\", 500)\n",
    "# display(x)\n",
    "# EMA.head(3)\n",
    "\n",
    "tmp = np.array( (EMA[\"event_type\"]) )\n",
    "# tmp.index(\"survey_started\")\n",
    "\n",
    "starts = np.where(np.isin(tmp, [\"survey_started\"]))\n",
    "starts = starts[0][1:]\n",
    "\n",
    "ends = np.where(np.isin(tmp, [\"survey_submitted\"]))\n",
    "ends = ends[0][1:]\n",
    "\n",
    "#for idx in starts:\n",
    "#    if EMA.loc[idx + 1][\"response\"] == \"Yes\":\n",
    "#        print(EMA[\"responses\"].loc[idx + 2])"
   ]
  },
  {
   "cell_type": "code",
   "execution_count": 3,
   "metadata": {},
   "outputs": [],
   "source": [
    "import csv\n",
    "\n",
    "res = {\"0\" : \"Playing\",\n",
    "       \"1\" : \"Talking\",\n",
    "       \"2\" : \"Petting\",\n",
    "       \"3\" : \"TV / Radio\",\n",
    "       \"4\" : \"Eating / Cooking\",\n",
    "       \"5\" : \"Moved It\"}\n",
    "\n",
    "rowid = 1\n",
    "with open('EMA Study Data/Test Data/Junyeong.csv', 'w', newline='') as file:\n",
    "    writer = csv.writer(file)\n",
    "    writer.writerow([\"RowID\", \"Modality\", \"Proximity\", \"Start Window\", \"End Window\"])\n",
    "    for i in range(len(starts)):\n",
    "        for j in range(starts[i], ends[i]):\n",
    "            if EMA.loc[j][\"response\"] == \"Yes\":\n",
    "                for idx in range(j, ends[i]):\n",
    "                    if type(EMA.loc[idx][\"responses\"]) is str:\n",
    "                        # print(EMA.loc[idx][\"responses\"])\n",
    "                        # print(EMA.loc[idx][\"response_values\"])\n",
    "                        # 여기서 바로 또 for 문으로 write\n",
    "                        for value in EMA.loc[idx][\"response_values\"][1:len(EMA.loc[idx][\"response_values\"])-1].split(','):\n",
    "                            writer.writerow([rowid, res[ value[2] ], \"proximity\", \"start\", \"end\"])\n",
    "                            rowid += 1"
   ]
  },
  {
   "cell_type": "code",
   "execution_count": null,
   "metadata": {},
   "outputs": [],
   "source": []
  },
  {
   "cell_type": "code",
   "execution_count": null,
   "metadata": {},
   "outputs": [],
   "source": []
  },
  {
   "cell_type": "code",
   "execution_count": null,
   "metadata": {},
   "outputs": [],
   "source": []
  },
  {
   "cell_type": "code",
   "execution_count": null,
   "metadata": {},
   "outputs": [],
   "source": []
  },
  {
   "cell_type": "code",
   "execution_count": null,
   "metadata": {},
   "outputs": [],
   "source": []
  },
  {
   "cell_type": "code",
   "execution_count": 41,
   "metadata": {},
   "outputs": [],
   "source": [
    "import csv\n",
    "with open('EMA Study Data/EMA Data/Junyeong.csv', 'w', newline='') as file:\n",
    "    writer = csv.writer(file)\n",
    "    writer.writerow([\"RowID\", \"Modality\", \"Proximity\", \"Start Window\", \"End Window\"])    \n",
    "    writer.writerow([1, \"Linus Torvalds\", \"Linux Kernel\"])\n",
    "    writer.writerow([2, \"Tim Berners-Lee\", \"World Wide Web\"])\n",
    "    writer.writerow([3, \"Guido van Rossum\", \"Python Programming\"])"
   ]
  },
  {
   "cell_type": "code",
   "execution_count": null,
   "metadata": {},
   "outputs": [],
   "source": []
  },
  {
   "cell_type": "code",
   "execution_count": null,
   "metadata": {},
   "outputs": [],
   "source": []
  },
  {
   "cell_type": "code",
   "execution_count": null,
   "metadata": {},
   "outputs": [],
   "source": []
  }
 ],
 "metadata": {
  "kernelspec": {
   "display_name": "Python 3",
   "language": "python",
   "name": "python3"
  },
  "language_info": {
   "codemirror_mode": {
    "name": "ipython",
    "version": 3
   },
   "file_extension": ".py",
   "mimetype": "text/x-python",
   "name": "python",
   "nbconvert_exporter": "python",
   "pygments_lexer": "ipython3",
   "version": "3.7.7"
  }
 },
 "nbformat": 4,
 "nbformat_minor": 4
}
