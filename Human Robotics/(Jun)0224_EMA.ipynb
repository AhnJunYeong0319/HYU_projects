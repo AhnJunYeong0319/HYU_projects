{
 "cells": [
  {
   "cell_type": "code",
   "execution_count": 40,
   "metadata": {},
   "outputs": [],
   "source": [
    "import pandas as pd\n",
    "import numpy as np\n",
    "\n",
    "EMA = pd.read_csv(\"EMA Study Data/EMA Data/Grace both Time and Event based pilr_data_export.csv\")\n",
    "# pd.set_option(\"display.max_rows\", 500)\n",
    "\n",
    "tmp = np.array( (EMA[\"event_type\"]) )\n",
    "\n",
    "## Indices (row number in dataframe) list which only contains indices of the time survey \"started \".\n",
    "starts = np.where(np.isin(tmp, [\"survey_started\"]))\n",
    "starts = starts[0][1:]\n",
    "\n",
    "## Indices (row number in dataframe) list which only contains indices of the time survey was \"submitted\".\n",
    "ends = np.where(np.isin(tmp, [\"survey_submitted\"]))\n",
    "ends = ends[0][1:]"
   ]
  },
  {
   "cell_type": "markdown",
   "metadata": {},
   "source": [
    "## *Alert*\n",
    "\n",
    "### Why so many for loops are there?\n",
    "\n",
    "**1) Location of \"Yes\" and \"No\" was inconsistent - usually next to the start of survey but two or more blocks further now and then,,**   \n",
    "**2) Location of responses was also inconsistent as mentioned above.**   \n",
    "   \n",
    "That's why I was supposed to use AT LEAST two for loops."
   ]
  },
  {
   "cell_type": "code",
   "execution_count": 41,
   "metadata": {},
   "outputs": [],
   "source": [
    "import csv\n",
    "\n",
    "## Dictionary for response types\n",
    "res = {\"0\" : \"Playing\",\n",
    "       \"1\" : \"Talking\",\n",
    "       \"2\" : \"Petting\",\n",
    "       \"3\" : \"TV / Radio\",\n",
    "       \"4\" : \"Eating / Cooking\",\n",
    "       \"5\" : \"Moved It\"}\n",
    "\n",
    "## Row number in will-be-created file\n",
    "rowid = 1\n",
    "\n",
    "## Write a csv file\n",
    "with open('EMA Study Data/Test Data/(Jun)0224.csv', 'w', newline='') as file:\n",
    "    writer = csv.writer(file)\n",
    "    writer.writerow([\"RowID\", \"Modality\", \"Proximity\", \"Start Window\", \"End Window\"])\n",
    "    \n",
    "    ## How many \"starts\"?\n",
    "    for i in range(len(starts)):\n",
    "        \n",
    "        ## Intervel between starts[i] and ends[i]\n",
    "        for j in range(starts[i], ends[i]):\n",
    "            if EMA.loc[j][\"response\"] == \"Yes\":  # Check where is\"Yes\" throughout the interval .\n",
    "                \n",
    "                ## Narrowed interval between \"Yes\" and ends[i]\n",
    "                for idx in range(j, ends[i]):\n",
    "                    if type(EMA.loc[idx][\"responses\"]) is str:  # \"Responses\" column consists of Nonetype(NaN) & string(informative).\n",
    "                        \n",
    "                        ## Write the information we want to extract in the new csv file\n",
    "                        for value in EMA.loc[idx][\"response_values\"][1:len(EMA.loc[idx][\"response_values\"])-1].split(','):\n",
    "                            start_time = EMA[\"metadata: timestamp (local)\"].loc[j] # start(& end)_time's form : string -> pd.datetime\n",
    "                            end_time = pd.to_datetime(start_time, infer_datetime_format=True) + pd.Timedelta(pd.offsets.Minute(15))\n",
    "                            \n",
    "                            writer.writerow([rowid, res[ value[2] ], \"proximity\", start_time, end_time]) # Write data one (row) by one..\n",
    "                            rowid += 1"
   ]
  }
 ],
 "metadata": {
  "kernelspec": {
   "display_name": "Python 3",
   "language": "python",
   "name": "python3"
  },
  "language_info": {
   "codemirror_mode": {
    "name": "ipython",
    "version": 3
   },
   "file_extension": ".py",
   "mimetype": "text/x-python",
   "name": "python",
   "nbconvert_exporter": "python",
   "pygments_lexer": "ipython3",
   "version": "3.7.7"
  }
 },
 "nbformat": 4,
 "nbformat_minor": 4
}
